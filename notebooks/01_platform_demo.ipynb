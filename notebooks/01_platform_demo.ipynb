{
 "cells": [
  {
   "cell_type": "markdown",
   "metadata": {},
   "source": [
    "# Supply Chain Optimization Platform - Demo Notebook\n",
    "\n",
    "This notebook demonstrates the key features of the supply chain optimization platform."
   ]
  },
  {
   "cell_type": "code",
   "execution_count": null,
   "metadata": {},
   "outputs": [],
   "source": [
    "import sys\n",
    "sys.path.append('../src')\n",
    "\n",
    "from data_generation.synthetic_data import SupplyChainDataGenerator\n",
    "from models.demand_forecasting import DemandForecaster\n",
    "import pandas as pd\n",
    "import plotly.express as px"
   ]
  },
  {
   "cell_type": "markdown",
   "metadata": {},
   "source": [
    "## 1. Generate Sample Data"
   ]
  },
  {
   "cell_type": "code",
   "execution_count": null,
   "metadata": {},
   "outputs": [],
   "source": [
    "# Generate sample supply chain data\n",
    "generator = SupplyChainDataGenerator()\n",
    "\n",
    "print(f\"📊 Generated {len(generator.products)} products\")\n",
    "print(f\"🏪 Generated {len(generator.suppliers)} suppliers\")\n",
    "print(f\"🏭 Generated {len(generator.warehouses)} warehouses\")\n",
    "print(f\"🏬 Generated {len(generator.stores)} stores\")\n",
    "\n",
    "# Display sample data\n",
    "generator.products.head()"
   ]
  },
  {
   "cell_type": "markdown",
   "metadata": {},
   "source": [
    "## 2. Demand Forecasting Demo"
   ]
  },
  {
   "cell_type": "code",
   "execution_count": null,
   "metadata": {},
   "outputs": [],
   "source": [
    "# Generate sales data and train forecasting model\n",
    "sales_data = generator.generate_historical_sales(days=365)\n",
    "\n",
    "forecaster = DemandForecaster()\n",
    "forecaster.fit(sales_data, generator.products)\n",
    "\n",
    "# Generate forecasts for top 5 products\n",
    "top_products = generator.products['product_id'].head(5).tolist()\n",
    "forecast_results = forecaster.get_forecast_summary(top_products, 30)\n",
    "\n",
    "print(\"📈 Demand Forecast Results:\")\n",
    "forecast_results"
   ]
  },
  {
   "cell_type": "markdown",
   "metadata": {},
   "source": [
    "## 3. Visualizations"
   ]
  },
  {
   "cell_type": "code",
   "execution_count": null,
   "metadata": {},
   "outputs": [],
   "source": [
    "# Create forecast visualization\n",
    "fig = px.bar(\n",
    "    forecast_results, \n",
    "    x='product_id', \n",
    "    y='avg_daily_demand',\n",
    "    title='Average Daily Demand Forecast by Product'\n",
    ")\n",
    "fig.show()"
   ]
  }
 ],
 "metadata": {
  "kernelspec": {
   "display_name": "Python 3",
   "language": "python",
   "name": "python3"
  },
  "language_info": {
   "codemirror_mode": {
    "name": "ipython",
    "version": 3
   },
   "file_extension": ".py",
   "mimetype": "text/x-python",
   "name": "python",
   "nbconvert_exporter": "python",
   "pygments_lexer": "ipython3",
   "version": "3.9.6"
  }
 },
 "nbformat": 4,
 "nbformat_minor": 4
}
